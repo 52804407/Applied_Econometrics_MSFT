{
 "cells": [
  {
   "cell_type": "markdown",
   "metadata": {},
   "source": [
    "Data for this project were predowloaded by tutors, but since python has library yfinance which is utilizing yahoo finance API we will use it to obtain our data. \n",
    "We will be using exactly the sama dataset as was predownloaded which are data for token MSFT (Microsoft) from 01.04.2010 till 05.03.2023"
   ]
  },
  {
   "cell_type": "code",
   "execution_count": 4,
   "metadata": {},
   "outputs": [
    {
     "name": "stderr",
     "output_type": "stream",
     "text": [
      "[*********************100%***********************]  1 of 1 completed\n",
      "[*********************100%***********************]  1 of 1 completed\n"
     ]
    }
   ],
   "source": [
    "import yfinance as yf\n",
    "import pandas as pd\n",
    "\n",
    "ticker = \"MSFT\"\n",
    "start_date = \"2010-01-04\"\n",
    "end_date = \"2023-03-06\" #We have to add one more day since last day is not included in Yahoo Finance API\n",
    "\n",
    "data = yf.download(ticker, start=start_date, end=end_date, auto_adjust=False)\n",
    "data.to_csv(\"Microsoft_data.csv\")\n",
    "\n",
    "data = yf.download(ticker, start=start_date, end=end_date, auto_adjust=True)\n",
    "data.to_csv(\"Microsoft_data_auto_adjust_true.csv\")\n",
    "\n"
   ]
  },
  {
   "cell_type": "markdown",
   "metadata": {},
   "source": [
    "We downloaded both dataset with set to auto_adjust=False, which is the predowloaded dataset and with auto_adjust=True just to compare the datasets. While we will keep both datasets we will create exactly the same dataset as was predownloaded by using only two columns (data, Close prices)."
   ]
  },
  {
   "cell_type": "code",
   "execution_count": null,
   "metadata": {},
   "outputs": [],
   "source": [
    "df = pd.read_csv(\"Microsoft_data.csv\", skiprows=2)  \n",
    "\n",
    "\n",
    "new_headers = [\"Date\", \"Adj Close\", \"Close\", \"High\", \"Low\", \"Open\", \"Volume\"]\n",
    "\n",
    "\n",
    "df.columns = new_headers\n",
    "data = df[[\"Date\", \"Close\"]]\n",
    "\n",
    "data.to_csv(\"MSFT.csv\", index=False)\n",
    "\n",
    "\n"
   ]
  },
  {
   "cell_type": "code",
   "execution_count": 10,
   "metadata": {},
   "outputs": [
    {
     "name": "stdout",
     "output_type": "stream",
     "text": [
      "         Date      Close\n",
      "0  2010-01-04  30.950001\n",
      "1  2010-01-05  30.959999\n",
      "2  2010-01-06  30.770000\n",
      "3  2010-01-07  30.450001\n",
      "4  2010-01-08  30.660000\n"
     ]
    }
   ],
   "source": [
    "print(data.head())"
   ]
  }
 ],
 "metadata": {
  "kernelspec": {
   "display_name": "base",
   "language": "python",
   "name": "python3"
  },
  "language_info": {
   "codemirror_mode": {
    "name": "ipython",
    "version": 3
   },
   "file_extension": ".py",
   "mimetype": "text/x-python",
   "name": "python",
   "nbconvert_exporter": "python",
   "pygments_lexer": "ipython3",
   "version": "3.12.7"
  }
 },
 "nbformat": 4,
 "nbformat_minor": 2
}
