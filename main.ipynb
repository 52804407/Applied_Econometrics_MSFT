{
 "cells": [
  {
   "cell_type": "markdown",
   "metadata": {},
   "source": [
    "We are using R for analysis.\n"
   ]
  },
  {
   "cell_type": "code",
   "execution_count": null,
   "metadata": {
    "vscode": {
     "languageId": "r"
    }
   },
   "outputs": [
    {
     "name": "stderr",
     "output_type": "stream",
     "text": [
      "Installing package into 'C:/Users/fazol/AppData/Local/R/win-library/4.4'\n",
      "(as 'lib' is unspecified)\n",
      "\n",
      "also installing the dependencies 'gmp', 'Rmpfr', 'Bessel', 'ff', 'shape', 'pcaPP', 'corpcor'\n",
      "\n",
      "\n"
     ]
    },
    {
     "name": "stdout",
     "output_type": "stream",
     "text": [
      "package 'gmp' successfully unpacked and MD5 sums checked\n",
      "package 'Rmpfr' successfully unpacked and MD5 sums checked\n",
      "package 'Bessel' successfully unpacked and MD5 sums checked\n",
      "package 'ff' successfully unpacked and MD5 sums checked\n",
      "package 'shape' successfully unpacked and MD5 sums checked\n",
      "package 'pcaPP' successfully unpacked and MD5 sums checked\n",
      "package 'corpcor' successfully unpacked and MD5 sums checked\n",
      "package 'rmgarch' successfully unpacked and MD5 sums checked\n",
      "\n",
      "The downloaded binary packages are in\n",
      "\tC:\\Users\\fazol\\AppData\\Local\\Temp\\RtmpS4PqEM\\downloaded_packages\n"
     ]
    },
    {
     "name": "stderr",
     "output_type": "stream",
     "text": [
      "Warning message:\n",
      "\"package 'rmgarch' was built under R version 4.4.3\"\n",
      "Warning message:\n",
      "\"package 'lmtest' was built under R version 4.4.3\"\n",
      "Loading required package: zoo\n",
      "\n",
      "Warning message:\n",
      "\"package 'zoo' was built under R version 4.4.3\"\n",
      "\n",
      "Attaching package: 'zoo'\n",
      "\n",
      "\n",
      "The following objects are masked from 'package:base':\n",
      "\n",
      "    as.Date, as.Date.numeric\n",
      "\n",
      "\n"
     ]
    }
   ],
   "source": [
    "#packages\n",
    "\n",
    "library(rmgarch)\n",
    "library(lmtest)\n",
    "library(tseries)\n",
    "library(forecast)\n",
    "library(repr)\n",
    "library(rugarch) # package for GARCH modelling\n",
    "library(moments) # package for kurtosis estimation\n",
    "library(aTSA) # package for ARCH-LM test"
   ]
  },
  {
   "cell_type": "code",
   "execution_count": 36,
   "metadata": {
    "vscode": {
     "languageId": "r"
    }
   },
   "outputs": [
    {
     "data": {
      "text/html": [
       "<table class=\"dataframe\">\n",
       "<caption>A data.frame: 6 × 2</caption>\n",
       "<thead>\n",
       "\t<tr><th></th><th scope=col>Date</th><th scope=col>Price</th></tr>\n",
       "\t<tr><th></th><th scope=col>&lt;chr&gt;</th><th scope=col>&lt;dbl&gt;</th></tr>\n",
       "</thead>\n",
       "<tbody>\n",
       "\t<tr><th scope=row>3</th><td>2010-01-04</td><td>23.25406</td></tr>\n",
       "\t<tr><th scope=row>4</th><td>2010-01-05</td><td>23.26156</td></tr>\n",
       "\t<tr><th scope=row>5</th><td>2010-01-06</td><td>23.11880</td></tr>\n",
       "\t<tr><th scope=row>6</th><td>2010-01-07</td><td>22.87838</td></tr>\n",
       "\t<tr><th scope=row>7</th><td>2010-01-08</td><td>23.03616</td></tr>\n",
       "\t<tr><th scope=row>8</th><td>2010-01-11</td><td>22.74315</td></tr>\n",
       "</tbody>\n",
       "</table>\n"
      ],
      "text/latex": [
       "A data.frame: 6 × 2\n",
       "\\begin{tabular}{r|ll}\n",
       "  & Date & Price\\\\\n",
       "  & <chr> & <dbl>\\\\\n",
       "\\hline\n",
       "\t3 & 2010-01-04 & 23.25406\\\\\n",
       "\t4 & 2010-01-05 & 23.26156\\\\\n",
       "\t5 & 2010-01-06 & 23.11880\\\\\n",
       "\t6 & 2010-01-07 & 22.87838\\\\\n",
       "\t7 & 2010-01-08 & 23.03616\\\\\n",
       "\t8 & 2010-01-11 & 22.74315\\\\\n",
       "\\end{tabular}\n"
      ],
      "text/markdown": [
       "\n",
       "A data.frame: 6 × 2\n",
       "\n",
       "| <!--/--> | Date &lt;chr&gt; | Price &lt;dbl&gt; |\n",
       "|---|---|---|\n",
       "| 3 | 2010-01-04 | 23.25406 |\n",
       "| 4 | 2010-01-05 | 23.26156 |\n",
       "| 5 | 2010-01-06 | 23.11880 |\n",
       "| 6 | 2010-01-07 | 22.87838 |\n",
       "| 7 | 2010-01-08 | 23.03616 |\n",
       "| 8 | 2010-01-11 | 22.74315 |\n",
       "\n"
      ],
      "text/plain": [
       "  Date       Price   \n",
       "3 2010-01-04 23.25406\n",
       "4 2010-01-05 23.26156\n",
       "5 2010-01-06 23.11880\n",
       "6 2010-01-07 22.87838\n",
       "7 2010-01-08 23.03616\n",
       "8 2010-01-11 22.74315"
      ]
     },
     "metadata": {},
     "output_type": "display_data"
    }
   ],
   "source": [
    "data <- read.csv(\"Microsoft_data.csv\")\n",
    "data <- data[-c(1:2), ]\n",
    "\n",
    "# Rename column 'price' to 'Date'\n",
    "names(data)[names(data) == \"Price\"] <- \"Date\"\n",
    "names(data)[names(data) == \"Adj.Close\"] <- \"Price\"\n",
    "data <- data[, -c(3:7)]\n",
    "data$Price <- as.numeric(data$Price)\n",
    "head(data)"
   ]
  },
  {
   "cell_type": "code",
   "execution_count": 37,
   "metadata": {
    "vscode": {
     "languageId": "r"
    }
   },
   "outputs": [
    {
     "data": {
      "text/html": [
       "3313"
      ],
      "text/latex": [
       "3313"
      ],
      "text/markdown": [
       "3313"
      ],
      "text/plain": [
       "[1] 3313"
      ]
     },
     "metadata": {},
     "output_type": "display_data"
    },
    {
     "data": {
      "text/html": [
       "3313"
      ],
      "text/latex": [
       "3313"
      ],
      "text/markdown": [
       "3313"
      ],
      "text/plain": [
       "[1] 3313"
      ]
     },
     "metadata": {},
     "output_type": "display_data"
    },
    {
     "data": {
      "text/html": [
       "<table class=\"dataframe\">\n",
       "<caption>A data.frame: 6 × 3</caption>\n",
       "<thead>\n",
       "\t<tr><th></th><th scope=col>Date</th><th scope=col>Price</th><th scope=col>log_ret</th></tr>\n",
       "\t<tr><th></th><th scope=col>&lt;chr&gt;</th><th scope=col>&lt;dbl&gt;</th><th scope=col>&lt;dbl&gt;</th></tr>\n",
       "</thead>\n",
       "<tbody>\n",
       "\t<tr><th scope=row>4</th><td>2010-01-05</td><td>23.26156</td><td> 0.0003227053</td></tr>\n",
       "\t<tr><th scope=row>5</th><td>2010-01-06</td><td>23.11880</td><td>-0.0061558790</td></tr>\n",
       "\t<tr><th scope=row>6</th><td>2010-01-07</td><td>22.87838</td><td>-0.0104538339</td></tr>\n",
       "\t<tr><th scope=row>7</th><td>2010-01-08</td><td>23.03616</td><td> 0.0068727811</td></tr>\n",
       "\t<tr><th scope=row>8</th><td>2010-01-11</td><td>22.74315</td><td>-0.0128014351</td></tr>\n",
       "\t<tr><th scope=row>9</th><td>2010-01-12</td><td>22.59287</td><td>-0.0066294634</td></tr>\n",
       "</tbody>\n",
       "</table>\n"
      ],
      "text/latex": [
       "A data.frame: 6 × 3\n",
       "\\begin{tabular}{r|lll}\n",
       "  & Date & Price & log\\_ret\\\\\n",
       "  & <chr> & <dbl> & <dbl>\\\\\n",
       "\\hline\n",
       "\t4 & 2010-01-05 & 23.26156 &  0.0003227053\\\\\n",
       "\t5 & 2010-01-06 & 23.11880 & -0.0061558790\\\\\n",
       "\t6 & 2010-01-07 & 22.87838 & -0.0104538339\\\\\n",
       "\t7 & 2010-01-08 & 23.03616 &  0.0068727811\\\\\n",
       "\t8 & 2010-01-11 & 22.74315 & -0.0128014351\\\\\n",
       "\t9 & 2010-01-12 & 22.59287 & -0.0066294634\\\\\n",
       "\\end{tabular}\n"
      ],
      "text/markdown": [
       "\n",
       "A data.frame: 6 × 3\n",
       "\n",
       "| <!--/--> | Date &lt;chr&gt; | Price &lt;dbl&gt; | log_ret &lt;dbl&gt; |\n",
       "|---|---|---|---|\n",
       "| 4 | 2010-01-05 | 23.26156 |  0.0003227053 |\n",
       "| 5 | 2010-01-06 | 23.11880 | -0.0061558790 |\n",
       "| 6 | 2010-01-07 | 22.87838 | -0.0104538339 |\n",
       "| 7 | 2010-01-08 | 23.03616 |  0.0068727811 |\n",
       "| 8 | 2010-01-11 | 22.74315 | -0.0128014351 |\n",
       "| 9 | 2010-01-12 | 22.59287 | -0.0066294634 |\n",
       "\n"
      ],
      "text/plain": [
       "  Date       Price    log_ret      \n",
       "4 2010-01-05 23.26156  0.0003227053\n",
       "5 2010-01-06 23.11880 -0.0061558790\n",
       "6 2010-01-07 22.87838 -0.0104538339\n",
       "7 2010-01-08 23.03616  0.0068727811\n",
       "8 2010-01-11 22.74315 -0.0128014351\n",
       "9 2010-01-12 22.59287 -0.0066294634"
      ]
     },
     "metadata": {},
     "output_type": "display_data"
    }
   ],
   "source": [
    "data$log_ret <- c(NA, diff(log(data$Price)))\n",
    "data <- na.omit(data)\n",
    "length(data$log_ret)\n",
    "# omit NAs\n",
    "log_ret = na.omit(data$log_ret)\n",
    "length(data$log_ret)\n",
    "head(data)"
   ]
  },
  {
   "cell_type": "code",
   "execution_count": 48,
   "metadata": {
    "vscode": {
     "languageId": "r"
    }
   },
   "outputs": [
    {
     "data": {
      "image/png": "[encoded data removed]",
      "text/plain": [
       "Plot with title \"Log Returns\""
      ]
     },
     "metadata": {
      "image/png": {
       "height": 240,
       "width": 600
      }
     },
     "output_type": "display_data"
    }
   ],
   "source": [
    "options(repr.plot.width=10, repr.plot.height=4)\n",
    "par(mfrow = c(1,2))\n",
    "\n",
    "# Original Price\n",
    "ts.plot(data$Price, col = \"black\", main = \"Price\", ylab = \"Price\", xlab = \"Time\")\n",
    "\n",
    "# Log Returns (if available)\n",
    "ts.plot(data$log_ret, col = \"black\", main = \"Log Returns\", ylab = \"Return\", xlab = \"Time\")"
   ]
  },
  {
   "cell_type": "code",
   "execution_count": 49,
   "metadata": {
    "vscode": {
     "languageId": "r"
    }
   },
   "outputs": [
    {
     "data": {
      "image/png": "[encoded data removed]",
      "text/plain": [
       "Plot with title \"PACF\""
      ]
     },
     "metadata": {
      "image/png": {
       "height": 240,
       "width": 600
      }
     },
     "output_type": "display_data"
    }
   ],
   "source": [
    "par(mfrow = c(1,2))\n",
    "Acf(data$Price, lag.max = 50, main = \"ACF\")\n",
    "Pacf(data$Price, lag.max = 50, main = \"PACF\")"
   ]
  },
  {
   "cell_type": "markdown",
   "metadata": {},
   "source": [
    "We can see that price is not stationary variables"
   ]
  },
  {
   "cell_type": "code",
   "execution_count": 50,
   "metadata": {
    "vscode": {
     "languageId": "r"
    }
   },
   "outputs": [
    {
     "data": {
      "text/plain": [
       "\n",
       "\tAugmented Dickey-Fuller Test\n",
       "\n",
       "data:  data$Price\n",
       "Dickey-Fuller = -1.7914, Lag order = 14, p-value = 0.6667\n",
       "alternative hypothesis: stationary\n"
      ]
     },
     "metadata": {},
     "output_type": "display_data"
    }
   ],
   "source": [
    "tseries::adf.test(data$Price)"
   ]
  },
  {
   "cell_type": "code",
   "execution_count": 51,
   "metadata": {
    "vscode": {
     "languageId": "r"
    }
   },
   "outputs": [
    {
     "name": "stderr",
     "output_type": "stream",
     "text": [
      "Warning message in tseries::adf.test(data$log_ret):\n",
      "\"p-value smaller than printed p-value\"\n"
     ]
    },
    {
     "data": {
      "text/plain": [
       "\n",
       "\tAugmented Dickey-Fuller Test\n",
       "\n",
       "data:  data$log_ret\n",
       "Dickey-Fuller = -15.89, Lag order = 14, p-value = 0.01\n",
       "alternative hypothesis: stationary\n"
      ]
     },
     "metadata": {},
     "output_type": "display_data"
    },
    {
     "name": "stdout",
     "output_type": "stream",
     "text": [
      "KPSS Unit Root Test \n",
      "alternative: nonstationary \n",
      " \n",
      "Type 1: no drift no trend \n",
      " lag stat p.value\n",
      "  13 2.89    0.01\n",
      "----- \n",
      " Type 2: with drift no trend \n",
      " lag  stat p.value\n",
      "  13 0.195     0.1\n",
      "----- \n",
      " Type 1: with drift and trend \n",
      " lag  stat p.value\n",
      "  13 0.107     0.1\n",
      "----------- \n",
      "Note: p.value = 0.01 means p.value <= 0.01 \n",
      "    : p.value = 0.10 means p.value >= 0.10 \n"
     ]
    },
    {
     "data": {
      "image/png": "[encoded data removed]",
      "text/plain": [
       "Plot with title \"PACF\""
      ]
     },
     "metadata": {
      "image/png": {
       "height": 240,
       "width": 600
      }
     },
     "output_type": "display_data"
    }
   ],
   "source": [
    "# ACF PACF plots\n",
    "par(mfrow = c(1,2))\n",
    "Acf(data$log_ret, lag.max = 50, main = \"ACF\")\n",
    "Pacf(data$log_ret, lag.max = 50, main = \"PACF\")\n",
    "\n",
    "#ADF test\n",
    "tseries::adf.test(data$log_ret)\n",
    "\n",
    "#KPSS test\n",
    "kpss.test(data$log_ret)"
   ]
  },
  {
   "cell_type": "code",
   "execution_count": 52,
   "metadata": {
    "vscode": {
     "languageId": "r"
    }
   },
   "outputs": [
    {
     "data": {
      "text/plain": [
       "Series: data$log_ret \n",
       "ARIMA(0,0,1) with zero mean \n",
       "\n",
       "Coefficients:\n",
       "          ma1\n",
       "      -0.1073\n",
       "s.e.   0.0171\n",
       "\n",
       "sigma^2 = 0.0002673:  log likelihood = 8927.67\n",
       "AIC=-17851.33   AICc=-17851.33   BIC=-17839.12"
      ]
     },
     "metadata": {},
     "output_type": "display_data"
    },
    {
     "name": "stdout",
     "output_type": "stream",
     "text": [
      "\n",
      "\tLjung-Box test\n",
      "\n",
      "data:  Residuals from ARIMA(0,0,1) with zero mean\n",
      "Q* = 59.238, df = 9, p-value = 1.88e-09\n",
      "\n",
      "Model df: 1.   Total lags used: 10\n",
      "\n"
     ]
    },
    {
     "data": {
      "image/png": "[encoded data removed]",
      "text/plain": [
       "plot without title"
      ]
     },
     "metadata": {
      "image/png": {
       "height": 240,
       "width": 600
      }
     },
     "output_type": "display_data"
    }
   ],
   "source": [
    "(fit_auto <- auto.arima(data$log_ret, ic = c(\"bic\"), stationary = TRUE))\n",
    "checkresiduals(fit_auto)"
   ]
  },
  {
   "cell_type": "code",
   "execution_count": 53,
   "metadata": {
    "vscode": {
     "languageId": "r"
    }
   },
   "outputs": [
    {
     "data": {
      "text/plain": [
       "\n",
       "\tBox-Ljung test\n",
       "\n",
       "data:  fit_auto$residuals\n",
       "X-squared = 77.393, df = 20, p-value = 1.083e-08\n"
      ]
     },
     "metadata": {},
     "output_type": "display_data"
    }
   ],
   "source": [
    "Box.test(fit_auto$residuals, lag = 20, type = c(\"Ljung-Box\"))"
   ]
  },
  {
   "cell_type": "code",
   "execution_count": 54,
   "metadata": {
    "vscode": {
     "languageId": "r"
    }
   },
   "outputs": [
    {
     "data": {
      "image/png": "[encoded data removed]",
      "text/plain": [
       "Plot with title \"PACF\""
      ]
     },
     "metadata": {
      "image/png": {
       "height": 240,
       "width": 600
      }
     },
     "output_type": "display_data"
    }
   ],
   "source": [
    "par(mfrow = c(1,2))\n",
    "Acf(fit_auto$residuals, lag.max = 50, main = \"ACF\")\n",
    "Pacf(fit_auto$residuals, lag.max = 50, main = \"PACF\")"
   ]
  },
  {
   "cell_type": "code",
   "execution_count": 55,
   "metadata": {
    "vscode": {
     "languageId": "r"
    }
   },
   "outputs": [
    {
     "data": {
      "image/png": "[encoded data removed]",
      "text/plain": [
       "Plot with title \"PACF\""
      ]
     },
     "metadata": {
      "image/png": {
       "height": 240,
       "width": 600
      }
     },
     "output_type": "display_data"
    }
   ],
   "source": [
    "resid <- fit_auto$residuals\n",
    "resid_sqrd <- resid^2 # create squared residuals\n",
    "par(mfrow = c(1,2))\n",
    "Acf(resid_sqrd, lag.max = 50, main = \"ACF\")\n",
    "Pacf(resid_sqrd, lag.max = 50, main = \"PACF\")"
   ]
  },
  {
   "cell_type": "code",
   "execution_count": 57,
   "metadata": {
    "vscode": {
     "languageId": "r"
    }
   },
   "outputs": [
    {
     "name": "stdout",
     "output_type": "stream",
     "text": [
      "ARCH heteroscedasticity test for residuals \n",
      "alternative: heteroscedastic \n",
      "\n",
      "Portmanteau-Q test: \n",
      "     order   PQ p.value\n",
      "[1,]     4  676       0\n",
      "[2,]     8  904       0\n",
      "[3,]    12 1142       0\n",
      "[4,]    16 1218       0\n",
      "[5,]    20 1239       0\n",
      "[6,]    24 1257       0\n",
      "Lagrange-Multiplier test: \n",
      "     order   LM p.value\n",
      "[1,]     4 2653       0\n",
      "[2,]     8 1232       0\n",
      "[3,]    12  770       0\n",
      "[4,]    16  573       0\n",
      "[5,]    20  454       0\n",
      "[6,]    24  375       0\n"
     ]
    },
    {
     "data": {
      "image/png": "[encoded data removed]",
      "text/plain": [
       "plot without title"
      ]
     },
     "metadata": {
      "image/png": {
       "height": 240,
       "width": 600
      }
     },
     "output_type": "display_data"
    }
   ],
   "source": [
    "arch.test(arima(data$log_ret,order = c(0,0,1)))"
   ]
  },
  {
   "cell_type": "code",
   "execution_count": null,
   "metadata": {
    "vscode": {
     "languageId": "r"
    }
   },
   "outputs": [
    {
     "name": "stderr",
     "output_type": "stream",
     "text": [
      "Installing package into 'C:/Users/fazol/AppData/Local/R/win-library/4.4'\n",
      "(as 'lib' is unspecified)\n",
      "\n"
     ]
    },
    {
     "name": "stdout",
     "output_type": "stream",
     "text": [
      "package 'FinTS' successfully unpacked and MD5 sums checked\n",
      "\n",
      "The downloaded binary packages are in\n",
      "\tC:\\Users\\fazol\\AppData\\Local\\Temp\\RtmpS4PqEM\\downloaded_packages\n"
     ]
    },
    {
     "name": "stderr",
     "output_type": "stream",
     "text": [
      "Warning message:\n",
      "\"package 'FinTS' was built under R version 4.4.3\"\n",
      "\n",
      "Attaching package: 'FinTS'\n",
      "\n",
      "\n",
      "The following object is masked from 'package:forecast':\n",
      "\n",
      "    Acf\n",
      "\n",
      "\n"
     ]
    },
    {
     "data": {
      "text/plain": [
       "\n",
       "\tARCH LM-test; Null hypothesis: no ARCH effects\n",
       "\n",
       "data:  resid\n",
       "Chi-squared = 507.79, df = 12, p-value < 2.2e-16\n"
      ]
     },
     "metadata": {},
     "output_type": "display_data"
    }
   ],
   "source": [
    "library(FinTS)\n",
    "ArchTest(resid, lags = 12, demean = FALSE)"
   ]
  },
  {
   "cell_type": "markdown",
   "metadata": {},
   "source": [
    "Now we are sure that there are ARCH/GARCH effects present in our Data"
   ]
  },
  {
   "cell_type": "code",
   "execution_count": 62,
   "metadata": {
    "vscode": {
     "languageId": "r"
    }
   },
   "outputs": [
    {
     "data": {
      "text/html": [
       "<style>\n",
       ".dl-inline {width: auto; margin:0; padding: 0}\n",
       ".dl-inline>dt, .dl-inline>dd {float: none; width: auto; display: inline-block}\n",
       ".dl-inline>dt::after {content: \":\\0020\"; padding-right: .5ex}\n",
       ".dl-inline>dt:not(:first-of-type) {padding-left: .5ex}\n",
       "</style><dl class=dl-inline><dt>mu</dt><dd>0.00103181771995195</dd><dt>ma1</dt><dd>-0.0436536120752214</dd><dt>omega</dt><dd>1.87179609207545e-05</dd><dt>alpha1</dt><dd>0.12924305406858</dd><dt>beta1</dt><dd>0.803287520814404</dd></dl>\n"
      ],
      "text/latex": [
       "\\begin{description*}\n",
       "\\item[mu] 0.00103181771995195\n",
       "\\item[ma1] -0.0436536120752214\n",
       "\\item[omega] 1.87179609207545e-05\n",
       "\\item[alpha1] 0.12924305406858\n",
       "\\item[beta1] 0.803287520814404\n",
       "\\end{description*}\n"
      ],
      "text/markdown": [
       "mu\n",
       ":   0.00103181771995195ma1\n",
       ":   -0.0436536120752214omega\n",
       ":   1.87179609207545e-05alpha1\n",
       ":   0.12924305406858beta1\n",
       ":   0.803287520814404\n",
       "\n"
      ],
      "text/plain": [
       "           mu           ma1         omega        alpha1         beta1 \n",
       " 1.031818e-03 -4.365361e-02  1.871796e-05  1.292431e-01  8.032875e-01 "
      ]
     },
     "metadata": {},
     "output_type": "display_data"
    },
    {
     "data": {
      "text/plain": [
       "\n",
       "*---------------------------------*\n",
       "*          GARCH Model Fit        *\n",
       "*---------------------------------*\n",
       "\n",
       "Conditional Variance Dynamics \t\n",
       "-----------------------------------\n",
       "GARCH Model\t: sGARCH(1,1)\n",
       "Mean Model\t: ARFIMA(0,0,1)\n",
       "Distribution\t: norm \n",
       "\n",
       "Optimal Parameters\n",
       "------------------------------------\n",
       "        Estimate  Std. Error  t value Pr(>|t|)\n",
       "mu      0.001032    0.000230   4.4929 0.000007\n",
       "ma1    -0.043654    0.020019  -2.1806 0.029210\n",
       "omega   0.000019    0.000004   4.7125 0.000002\n",
       "alpha1  0.129243    0.021721   5.9501 0.000000\n",
       "beta1   0.803288    0.032044  25.0681 0.000000\n",
       "\n",
       "Robust Standard Errors:\n",
       "        Estimate  Std. Error  t value Pr(>|t|)\n",
       "mu      0.001032    0.000225   4.5769 0.000005\n",
       "ma1    -0.043654    0.022324  -1.9554 0.050531\n",
       "omega   0.000019    0.000009   2.0194 0.043443\n",
       "alpha1  0.129243    0.045808   2.8214 0.004781\n",
       "beta1   0.803288    0.071026  11.3097 0.000000\n",
       "\n",
       "LogLikelihood : 9212.841 \n",
       "\n",
       "Information Criteria\n",
       "------------------------------------\n",
       "                    \n",
       "Akaike       -5.5586\n",
       "Bayes        -5.5494\n",
       "Shibata      -5.5586\n",
       "Hannan-Quinn -5.5553\n",
       "\n",
       "Weighted Ljung-Box Test on Standardized Residuals\n",
       "------------------------------------\n",
       "                        statistic p-value\n",
       "Lag[1]                     0.2170  0.6413\n",
       "Lag[2*(p+q)+(p+q)-1][2]    0.5872  0.9399\n",
       "Lag[4*(p+q)+(p+q)-1][5]    2.1885  0.6566\n",
       "d.o.f=1\n",
       "H0 : No serial correlation\n",
       "\n",
       "Weighted Ljung-Box Test on Standardized Squared Residuals\n",
       "------------------------------------\n",
       "                        statistic p-value\n",
       "Lag[1]                     0.1363  0.7120\n",
       "Lag[2*(p+q)+(p+q)-1][5]    1.0726  0.8430\n",
       "Lag[4*(p+q)+(p+q)-1][9]    2.1956  0.8804\n",
       "d.o.f=2\n",
       "\n",
       "Weighted ARCH LM Tests\n",
       "------------------------------------\n",
       "            Statistic Shape Scale P-Value\n",
       "ARCH Lag[3]     1.073 0.500 2.000  0.3003\n",
       "ARCH Lag[5]     1.791 1.440 1.667  0.5193\n",
       "ARCH Lag[7]     2.105 2.315 1.543  0.6951\n",
       "\n",
       "Nyblom stability test\n",
       "------------------------------------\n",
       "Joint Statistic:  2.3419\n",
       "Individual Statistics:              \n",
       "mu     0.22682\n",
       "ma1    0.54587\n",
       "omega  0.09511\n",
       "alpha1 0.31418\n",
       "beta1  0.18640\n",
       "\n",
       "Asymptotic Critical Values (10% 5% 1%)\n",
       "Joint Statistic:     \t 1.28 1.47 1.88\n",
       "Individual Statistic:\t 0.35 0.47 0.75\n",
       "\n",
       "Sign Bias Test\n",
       "------------------------------------\n",
       "                   t-value   prob sig\n",
       "Sign Bias           0.1647 0.8692    \n",
       "Negative Sign Bias  1.3616 0.1734    \n",
       "Positive Sign Bias  0.3365 0.7365    \n",
       "Joint Effect        3.7854 0.2856    \n",
       "\n",
       "\n",
       "Adjusted Pearson Goodness-of-Fit Test:\n",
       "------------------------------------\n",
       "  group statistic p-value(g-1)\n",
       "1    20     149.3    2.951e-22\n",
       "2    30     172.6    2.371e-22\n",
       "3    40     182.5    1.981e-20\n",
       "4    50     207.4    2.218e-21\n",
       "\n",
       "\n",
       "Elapsed time : 0.2671359 \n"
      ]
     },
     "metadata": {},
     "output_type": "display_data"
    }
   ],
   "source": [
    "# specify the model that we want to estimate\n",
    "model_specification <- ugarchspec(mean.model = list(armaOrder = c(0, 1), include.mean = TRUE), \n",
    "                      variance.model = list(garchOrder = c(1, 1)))\n",
    "\n",
    "# estimate the model\n",
    "fit <- ugarchfit(spec = model_specification, data = data$log_ret)\n",
    "#infocriteria(fit)\n",
    "\n",
    "\n",
    "coef(fit)\n",
    "fit\n"
   ]
  },
  {
   "cell_type": "code",
   "execution_count": 64,
   "metadata": {
    "vscode": {
     "languageId": "r"
    }
   },
   "outputs": [
    {
     "data": {
      "image/png": "[encoded data removed]",
      "text/plain": [
       "plot without title"
      ]
     },
     "metadata": {
      "image/png": {
       "height": 240,
       "width": 600
      }
     },
     "output_type": "display_data"
    }
   ],
   "source": [
    "#plot.ts(abs(log_ret))\n",
    "plot.ts(abs(residuals(fit))) # residuals (after fitting arma model) or log_ret in absolute values\n",
    "lines(as.numeric(sigma(fit)),col = \"red\", lwd = 3) \n",
    "# plot of the residuals/log returns in absolute value and of estimated conditional standard deviation (volatility)"
   ]
  }
 ],
 "metadata": {
  "kernelspec": {
   "display_name": "R",
   "language": "R",
   "name": "ir"
  },
  "language_info": {
   "codemirror_mode": "r",
   "file_extension": ".r",
   "mimetype": "text/x-r-source",
   "name": "R",
   "pygments_lexer": "r",
   "version": "4.4.2"
  }
 },
 "nbformat": 4,
 "nbformat_minor": 2
}
