{
 "cells": [
  {
   "cell_type": "markdown",
   "metadata": {},
   "source": [
    "We are using R for analysis.\n"
   ]
  },
  {
   "cell_type": "code",
   "execution_count": null,
   "metadata": {
    "vscode": {
     "languageId": "r"
    }
   },
   "outputs": [
    {
     "name": "stderr",
     "output_type": "stream",
     "text": [
      "Installing package into 'C:/Users/fazol/AppData/Local/R/win-library/4.4'\n",
      "(as 'lib' is unspecified)\n",
      "\n"
     ]
    },
    {
     "name": "stdout",
     "output_type": "stream",
     "text": [
      "package 'moments' successfully unpacked and MD5 sums checked\n",
      "\n",
      "The downloaded binary packages are in\n",
      "\tC:\\Users\\fazol\\AppData\\Local\\Temp\\RtmpS4PqEM\\downloaded_packages\n"
     ]
    },
    {
     "name": "stderr",
     "output_type": "stream",
     "text": [
      "Installing package into 'C:/Users/fazol/AppData/Local/R/win-library/4.4'\n",
      "(as 'lib' is unspecified)\n",
      "\n"
     ]
    },
    {
     "name": "stdout",
     "output_type": "stream",
     "text": [
      "package 'aTSA' successfully unpacked and MD5 sums checked\n",
      "\n",
      "The downloaded binary packages are in\n",
      "\tC:\\Users\\fazol\\AppData\\Local\\Temp\\RtmpS4PqEM\\downloaded_packages\n"
     ]
    },
    {
     "name": "stderr",
     "output_type": "stream",
     "text": [
      "\n",
      "Attaching package: 'aTSA'\n",
      "\n",
      "\n",
      "The following object is masked from 'package:forecast':\n",
      "\n",
      "    forecast\n",
      "\n",
      "\n",
      "The following objects are masked from 'package:tseries':\n",
      "\n",
      "    adf.test, kpss.test, pp.test\n",
      "\n",
      "\n",
      "The following object is masked from 'package:graphics':\n",
      "\n",
      "    identify\n",
      "\n",
      "\n"
     ]
    }
   ],
   "source": [
    "#packages\n",
    "library(tseries)\n",
    "library(forecast)\n",
    "library(repr)\n",
    "library(rugarch) # package for GARCH modelling\n",
    "library(moments) # package for kurtosis estimation\n",
    "library(aTSA) # package for ARCH-LM test"
   ]
  },
  {
   "cell_type": "code",
   "execution_count": 36,
   "metadata": {
    "vscode": {
     "languageId": "r"
    }
   },
   "outputs": [
    {
     "data": {
      "text/html": [
       "<table class=\"dataframe\">\n",
       "<caption>A data.frame: 6 × 2</caption>\n",
       "<thead>\n",
       "\t<tr><th></th><th scope=col>Date</th><th scope=col>Price</th></tr>\n",
       "\t<tr><th></th><th scope=col>&lt;chr&gt;</th><th scope=col>&lt;dbl&gt;</th></tr>\n",
       "</thead>\n",
       "<tbody>\n",
       "\t<tr><th scope=row>3</th><td>2010-01-04</td><td>23.25406</td></tr>\n",
       "\t<tr><th scope=row>4</th><td>2010-01-05</td><td>23.26156</td></tr>\n",
       "\t<tr><th scope=row>5</th><td>2010-01-06</td><td>23.11880</td></tr>\n",
       "\t<tr><th scope=row>6</th><td>2010-01-07</td><td>22.87838</td></tr>\n",
       "\t<tr><th scope=row>7</th><td>2010-01-08</td><td>23.03616</td></tr>\n",
       "\t<tr><th scope=row>8</th><td>2010-01-11</td><td>22.74315</td></tr>\n",
       "</tbody>\n",
       "</table>\n"
      ],
      "text/latex": [
       "A data.frame: 6 × 2\n",
       "\\begin{tabular}{r|ll}\n",
       "  & Date & Price\\\\\n",
       "  & <chr> & <dbl>\\\\\n",
       "\\hline\n",
       "\t3 & 2010-01-04 & 23.25406\\\\\n",
       "\t4 & 2010-01-05 & 23.26156\\\\\n",
       "\t5 & 2010-01-06 & 23.11880\\\\\n",
       "\t6 & 2010-01-07 & 22.87838\\\\\n",
       "\t7 & 2010-01-08 & 23.03616\\\\\n",
       "\t8 & 2010-01-11 & 22.74315\\\\\n",
       "\\end{tabular}\n"
      ],
      "text/markdown": [
       "\n",
       "A data.frame: 6 × 2\n",
       "\n",
       "| <!--/--> | Date &lt;chr&gt; | Price &lt;dbl&gt; |\n",
       "|---|---|---|\n",
       "| 3 | 2010-01-04 | 23.25406 |\n",
       "| 4 | 2010-01-05 | 23.26156 |\n",
       "| 5 | 2010-01-06 | 23.11880 |\n",
       "| 6 | 2010-01-07 | 22.87838 |\n",
       "| 7 | 2010-01-08 | 23.03616 |\n",
       "| 8 | 2010-01-11 | 22.74315 |\n",
       "\n"
      ],
      "text/plain": [
       "  Date       Price   \n",
       "3 2010-01-04 23.25406\n",
       "4 2010-01-05 23.26156\n",
       "5 2010-01-06 23.11880\n",
       "6 2010-01-07 22.87838\n",
       "7 2010-01-08 23.03616\n",
       "8 2010-01-11 22.74315"
      ]
     },
     "metadata": {},
     "output_type": "display_data"
    }
   ],
   "source": [
    "data <- read.csv(\"Microsoft_data.csv\")\n",
    "data <- data[-c(1:2), ]\n",
    "\n",
    "# Rename column 'price' to 'Date'\n",
    "names(data)[names(data) == \"Price\"] <- \"Date\"\n",
    "names(data)[names(data) == \"Adj.Close\"] <- \"Price\"\n",
    "data <- data[, -c(3:7)]\n",
    "data$Price <- as.numeric(data$Price)\n",
    "head(data)"
   ]
  },
  {
   "cell_type": "code",
   "execution_count": 37,
   "metadata": {
    "vscode": {
     "languageId": "r"
    }
   },
   "outputs": [
    {
     "data": {
      "text/html": [
       "3313"
      ],
      "text/latex": [
       "3313"
      ],
      "text/markdown": [
       "3313"
      ],
      "text/plain": [
       "[1] 3313"
      ]
     },
     "metadata": {},
     "output_type": "display_data"
    },
    {
     "data": {
      "text/html": [
       "3313"
      ],
      "text/latex": [
       "3313"
      ],
      "text/markdown": [
       "3313"
      ],
      "text/plain": [
       "[1] 3313"
      ]
     },
     "metadata": {},
     "output_type": "display_data"
    },
    {
     "data": {
      "text/html": [
       "<table class=\"dataframe\">\n",
       "<caption>A data.frame: 6 × 3</caption>\n",
       "<thead>\n",
       "\t<tr><th></th><th scope=col>Date</th><th scope=col>Price</th><th scope=col>log_ret</th></tr>\n",
       "\t<tr><th></th><th scope=col>&lt;chr&gt;</th><th scope=col>&lt;dbl&gt;</th><th scope=col>&lt;dbl&gt;</th></tr>\n",
       "</thead>\n",
       "<tbody>\n",
       "\t<tr><th scope=row>4</th><td>2010-01-05</td><td>23.26156</td><td> 0.0003227053</td></tr>\n",
       "\t<tr><th scope=row>5</th><td>2010-01-06</td><td>23.11880</td><td>-0.0061558790</td></tr>\n",
       "\t<tr><th scope=row>6</th><td>2010-01-07</td><td>22.87838</td><td>-0.0104538339</td></tr>\n",
       "\t<tr><th scope=row>7</th><td>2010-01-08</td><td>23.03616</td><td> 0.0068727811</td></tr>\n",
       "\t<tr><th scope=row>8</th><td>2010-01-11</td><td>22.74315</td><td>-0.0128014351</td></tr>\n",
       "\t<tr><th scope=row>9</th><td>2010-01-12</td><td>22.59287</td><td>-0.0066294634</td></tr>\n",
       "</tbody>\n",
       "</table>\n"
      ],
      "text/latex": [
       "A data.frame: 6 × 3\n",
       "\\begin{tabular}{r|lll}\n",
       "  & Date & Price & log\\_ret\\\\\n",
       "  & <chr> & <dbl> & <dbl>\\\\\n",
       "\\hline\n",
       "\t4 & 2010-01-05 & 23.26156 &  0.0003227053\\\\\n",
       "\t5 & 2010-01-06 & 23.11880 & -0.0061558790\\\\\n",
       "\t6 & 2010-01-07 & 22.87838 & -0.0104538339\\\\\n",
       "\t7 & 2010-01-08 & 23.03616 &  0.0068727811\\\\\n",
       "\t8 & 2010-01-11 & 22.74315 & -0.0128014351\\\\\n",
       "\t9 & 2010-01-12 & 22.59287 & -0.0066294634\\\\\n",
       "\\end{tabular}\n"
      ],
      "text/markdown": [
       "\n",
       "A data.frame: 6 × 3\n",
       "\n",
       "| <!--/--> | Date &lt;chr&gt; | Price &lt;dbl&gt; | log_ret &lt;dbl&gt; |\n",
       "|---|---|---|---|\n",
       "| 4 | 2010-01-05 | 23.26156 |  0.0003227053 |\n",
       "| 5 | 2010-01-06 | 23.11880 | -0.0061558790 |\n",
       "| 6 | 2010-01-07 | 22.87838 | -0.0104538339 |\n",
       "| 7 | 2010-01-08 | 23.03616 |  0.0068727811 |\n",
       "| 8 | 2010-01-11 | 22.74315 | -0.0128014351 |\n",
       "| 9 | 2010-01-12 | 22.59287 | -0.0066294634 |\n",
       "\n"
      ],
      "text/plain": [
       "  Date       Price    log_ret      \n",
       "4 2010-01-05 23.26156  0.0003227053\n",
       "5 2010-01-06 23.11880 -0.0061558790\n",
       "6 2010-01-07 22.87838 -0.0104538339\n",
       "7 2010-01-08 23.03616  0.0068727811\n",
       "8 2010-01-11 22.74315 -0.0128014351\n",
       "9 2010-01-12 22.59287 -0.0066294634"
      ]
     },
     "metadata": {},
     "output_type": "display_data"
    }
   ],
   "source": [
    "data$log_ret <- c(NA, diff(log(data$Price)))\n",
    "data <- na.omit(data)\n",
    "length(data$log_ret)\n",
    "# omit NAs\n",
    "log_ret = na.omit(data$log_ret)\n",
    "length(data$log_ret)\n",
    "head(data)"
   ]
  },
  {
   "cell_type": "code",
   "execution_count": 31,
   "metadata": {
    "vscode": {
     "languageId": "r"
    }
   },
   "outputs": [
    {
     "data": {
      "image/png": "[encoded data removed]",
      "text/plain": [
       "Plot with title \"Log Returns\""
      ]
     },
     "metadata": {
      "image/png": {
       "height": 240,
       "width": 600
      }
     },
     "output_type": "display_data"
    }
   ],
   "source": [
    "options(repr.plot.width=10, repr.plot.height=4)\n",
    "par(mfrow = c(1,2), bg = \"black\", col.axis = \"white\", col.lab = \"white\", col.main = \"white\", fg = \"white\")\n",
    "\n",
    "# Original Price\n",
    "ts.plot(data$Price, col = \"white\", main = \"Price\", ylab = \"Price\", xlab = \"Time\")\n",
    "\n",
    "# Log Returns (if available)\n",
    "ts.plot(data$log_ret, col = \"white\", main = \"Log Returns\", ylab = \"Return\", xlab = \"Time\")"
   ]
  },
  {
   "cell_type": "code",
   "execution_count": 38,
   "metadata": {
    "vscode": {
     "languageId": "r"
    }
   },
   "outputs": [
    {
     "data": {
      "image/png": "[encoded data removed]",
      "text/plain": [
       "Plot with title \"PACF\""
      ]
     },
     "metadata": {
      "image/png": {
       "height": 240,
       "width": 600
      }
     },
     "output_type": "display_data"
    }
   ],
   "source": [
    "par(mfrow = c(1,2), bg = \"black\", col.axis = \"white\", col.lab = \"white\", col.main = \"white\", fg = \"white\")\n",
    "Acf(data$Price, lag.max = 50, main = \"ACF\")\n",
    "Pacf(data$Price, lag.max = 50, main = \"PACF\")"
   ]
  },
  {
   "cell_type": "markdown",
   "metadata": {},
   "source": [
    "We can see that price is not stationary variables"
   ]
  },
  {
   "cell_type": "code",
   "execution_count": 39,
   "metadata": {
    "vscode": {
     "languageId": "r"
    }
   },
   "outputs": [
    {
     "data": {
      "text/plain": [
       "\n",
       "\tAugmented Dickey-Fuller Test\n",
       "\n",
       "data:  data$Price\n",
       "Dickey-Fuller = -1.7914, Lag order = 14, p-value = 0.6667\n",
       "alternative hypothesis: stationary\n"
      ]
     },
     "metadata": {},
     "output_type": "display_data"
    }
   ],
   "source": [
    "tseries::adf.test(data$Price)"
   ]
  },
  {
   "cell_type": "code",
   "execution_count": 43,
   "metadata": {
    "vscode": {
     "languageId": "r"
    }
   },
   "outputs": [
    {
     "name": "stderr",
     "output_type": "stream",
     "text": [
      "Warning message in tseries::adf.test(data$log_ret):\n",
      "\"p-value smaller than printed p-value\"\n"
     ]
    },
    {
     "data": {
      "text/plain": [
       "\n",
       "\tAugmented Dickey-Fuller Test\n",
       "\n",
       "data:  data$log_ret\n",
       "Dickey-Fuller = -15.89, Lag order = 14, p-value = 0.01\n",
       "alternative hypothesis: stationary\n"
      ]
     },
     "metadata": {},
     "output_type": "display_data"
    },
    {
     "name": "stdout",
     "output_type": "stream",
     "text": [
      "KPSS Unit Root Test \n",
      "alternative: nonstationary \n",
      " \n",
      "Type 1: no drift no trend \n",
      " lag stat p.value\n",
      "  13 2.89    0.01\n",
      "----- \n",
      " Type 2: with drift no trend \n",
      " lag  stat p.value\n",
      "  13 0.195     0.1\n",
      "----- \n",
      " Type 1: with drift and trend \n",
      " lag  stat p.value\n",
      "  13 0.107     0.1\n",
      "----------- \n",
      "Note: p.value = 0.01 means p.value <= 0.01 \n",
      "    : p.value = 0.10 means p.value >= 0.10 \n"
     ]
    },
    {
     "data": {
      "image/png": "[encoded data removed]",
      "text/plain": [
       "Plot with title \"PACF\""
      ]
     },
     "metadata": {
      "image/png": {
       "height": 240,
       "width": 600
      }
     },
     "output_type": "display_data"
    }
   ],
   "source": [
    "# ACF PACF plots\n",
    "par(mfrow = c(1,2), bg = \"black\", col.axis = \"white\", col.lab = \"white\", col.main = \"white\", fg = \"white\")\n",
    "Acf(data$log_ret, lag.max = 50, main = \"ACF\")\n",
    "Pacf(data$log_ret, lag.max = 50, main = \"PACF\")\n",
    "\n",
    "#ADF test\n",
    "tseries::adf.test(data$log_ret)\n",
    "\n",
    "#KPSS test\n",
    "kpss.test(data$log_ret)"
   ]
  },
  {
   "cell_type": "code",
   "execution_count": 44,
   "metadata": {
    "vscode": {
     "languageId": "r"
    }
   },
   "outputs": [
    {
     "data": {
      "text/plain": [
       "Series: data$log_ret \n",
       "ARIMA(0,0,1) with zero mean \n",
       "\n",
       "Coefficients:\n",
       "          ma1\n",
       "      -0.1073\n",
       "s.e.   0.0171\n",
       "\n",
       "sigma^2 = 0.0002673:  log likelihood = 8927.67\n",
       "AIC=-17851.33   AICc=-17851.33   BIC=-17839.12"
      ]
     },
     "metadata": {},
     "output_type": "display_data"
    },
    {
     "name": "stdout",
     "output_type": "stream",
     "text": [
      "\n",
      "\tLjung-Box test\n",
      "\n",
      "data:  Residuals from ARIMA(0,0,1) with zero mean\n",
      "Q* = 59.238, df = 9, p-value = 1.88e-09\n",
      "\n",
      "Model df: 1.   Total lags used: 10\n",
      "\n"
     ]
    },
    {
     "data": {
      "image/png": "[encoded data removed]",
      "text/plain": [
       "plot without title"
      ]
     },
     "metadata": {
      "image/png": {
       "height": 240,
       "width": 600
      }
     },
     "output_type": "display_data"
    }
   ],
   "source": [
    "(fit_auto <- auto.arima(data$log_ret, ic = c(\"bic\"), stationary = TRUE))\n",
    "checkresiduals(fit_auto)"
   ]
  },
  {
   "cell_type": "code",
   "execution_count": null,
   "metadata": {
    "vscode": {
     "languageId": "r"
    }
   },
   "outputs": [
    {
     "data": {
      "text/plain": [
       "\n",
       "\tBox-Ljung test\n",
       "\n",
       "data:  fit_auto$residuals\n",
       "X-squared = 77.393, df = 20, p-value = 1.083e-08\n"
      ]
     },
     "metadata": {},
     "output_type": "display_data"
    }
   ],
   "source": [
    "Box.test(fit_auto$residuals, lag = 20, type = c(\"Ljung-Box\"))"
   ]
  },
  {
   "cell_type": "code",
   "execution_count": 46,
   "metadata": {
    "vscode": {
     "languageId": "r"
    }
   },
   "outputs": [
    {
     "data": {
      "image/png": "[encoded data removed]",
      "text/plain": [
       "Plot with title \"PACF\""
      ]
     },
     "metadata": {
      "image/png": {
       "height": 240,
       "width": 600
      }
     },
     "output_type": "display_data"
    }
   ],
   "source": [
    "par(mfrow = c(1,2), bg = \"black\", col.axis = \"white\", col.lab = \"white\", col.main = \"white\", fg = \"white\")\n",
    "Acf(fit_auto$residuals, lag.max = 50, main = \"ACF\")\n",
    "Pacf(fit_auto$residuals, lag.max = 50, main = \"PACF\")"
   ]
  }
 ],
 "metadata": {
  "kernelspec": {
   "display_name": "R",
   "language": "R",
   "name": "ir"
  },
  "language_info": {
   "codemirror_mode": "r",
   "file_extension": ".r",
   "mimetype": "text/x-r-source",
   "name": "R",
   "pygments_lexer": "r",
   "version": "4.4.2"
  }
 },
 "nbformat": 4,
 "nbformat_minor": 2
}
